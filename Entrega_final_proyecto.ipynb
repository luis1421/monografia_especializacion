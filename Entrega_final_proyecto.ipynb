{
  "nbformat": 4,
  "nbformat_minor": 0,
  "metadata": {
    "colab": {
      "name": "Entrega final proyecto.ipynb",
      "provenance": [],
      "collapsed_sections": [
        "2NV1sqYyZJFf",
        "epxAgndcjCS5",
        "1qN8FBbcYvNg"
      ],
      "include_colab_link": true
    },
    "kernelspec": {
      "name": "python3",
      "display_name": "Python 3"
    },
    "language_info": {
      "name": "python"
    },
    "accelerator": "GPU"
  },
  "cells": [
    {
      "cell_type": "markdown",
      "metadata": {
        "id": "view-in-github",
        "colab_type": "text"
      },
      "source": [
        "<a href=\"https://colab.research.google.com/github/luis1421/monografia_especializacion/blob/main/Entrega_final_proyecto.ipynb\" target=\"_parent\"><img src=\"https://colab.research.google.com/assets/colab-badge.svg\" alt=\"Open In Colab\"/></a>"
      ]
    },
    {
      "cell_type": "markdown",
      "metadata": {
        "id": "2NV1sqYyZJFf"
      },
      "source": [
        "# ***PRIMERA ENTREGA MONOGRAFIA EACD***"
      ]
    },
    {
      "cell_type": "markdown",
      "metadata": {
        "id": "hCjasv_xYnmK"
      },
      "source": [
        " ## **Titulo:**\n",
        " ## **“Valoración cuantitativa de productos a través de procesamiento de lenguaje natural ( NLP)“**"
      ]
    },
    {
      "cell_type": "markdown",
      "metadata": {
        "id": "epxAgndcjCS5"
      },
      "source": [
        "#***INTEGRANTES***\n",
        "\n",
        "##Luis Felipe Salazar Ucros \n",
        "\n",
        "##Diego Stiven Osorio Vélez "
      ]
    },
    {
      "cell_type": "markdown",
      "metadata": {
        "id": "1qN8FBbcYvNg"
      },
      "source": [
        "### ¿Por qué queremos hacer esto?\n",
        "La captura de datos no estructurados mediante la interacción con el cliente es proceso que en general se ha facilitado gracias al streaming data, sin embargo la obtención de dichos datos con su respectiva etiqueta (de necesitarla) resulta complicado en la mayoría de casos, sobretodo en canales diferentes a los propios para los cuales está destinado dejar opiniones o reviews del servicio, tales como las redes sociales, encuestas, etc. Por lo tanto, se hace necesario encontrar una forma de automatizar este proceso, ya que con una etiquetación automática se puede sacar estadísticas en tiempo real, encontrar información relevante para el negocio,atender más rápido las solicitudes y mejorar la experiencia del cliente.\n",
        "\n",
        "### ¿Qué queremos hacer?\n",
        "\n",
        "Con base en la opinión que los clientes dejan después de comprar productos en la plataforma se plantea un producto el cuál puede  calcular el nivel de satisfacción del cliente basado en su comentario(opinión) acerca de esta compra, esto permite conocer qué le interesa , qué tan satisfecho se siente con el producto y permite comprender las necesidades para atender las solicitudes más rápidamente."
      ]
    },
    {
      "cell_type": "markdown",
      "metadata": {
        "id": "nY6N67fgZ8KK"
      },
      "source": [
        "## Métricas\n",
        "\n",
        "\n",
        "Para nuestro problema de etiquetas, deseamos reducir los falsos positivos dado que una etiqueta clasificada como positiva  siendo negativa genera que no se le de un seguimiento adecuado al caso.\n",
        "\n",
        "*   Precisión\n",
        "*   Recall\n",
        "  \n",
        "\n",
        "\n",
        "\n",
        "\n"
      ]
    },
    {
      "cell_type": "markdown",
      "metadata": {
        "id": "VOaRWo8vMUN6"
      },
      "source": [
        "### **IMPORTACIÓN,LECTURA Y CARGUE DE DATOS**"
      ]
    },
    {
      "cell_type": "code",
      "metadata": {
        "colab": {
          "base_uri": "https://localhost:8080/"
        },
        "id": "FBFePdtN891U",
        "outputId": "8bf0a2ce-f610-409a-84f0-15d750fa914f"
      },
      "source": [
        "# Clonar git que contiene paquetes propios\n",
        "!git clone https://github.com/luis1421/monografia_especializacion.git"
      ],
      "execution_count": null,
      "outputs": [
        {
          "output_type": "stream",
          "name": "stdout",
          "text": [
            "Cloning into 'monografia_especializacion'...\n",
            "remote: Enumerating objects: 70, done.\u001b[K\n",
            "remote: Counting objects: 100% (70/70), done.\u001b[K\n",
            "remote: Compressing objects: 100% (57/57), done.\u001b[K\n",
            "remote: Total 70 (delta 11), reused 56 (delta 7), pack-reused 0\u001b[K\n",
            "Unpacking objects: 100% (70/70), done.\n"
          ]
        }
      ]
    },
    {
      "cell_type": "code",
      "metadata": {
        "colab": {
          "base_uri": "https://localhost:8080/"
        },
        "id": "karN8YP-8c_r",
        "outputId": "dbde93f1-d1fa-41ce-b4f2-cfead456c3f6"
      },
      "source": [
        "# Facilitar importación de paquete\n",
        "import sys\n",
        "sys.path.insert(0, 'monografia_especializacion/text_analysis')\n",
        "print(sys.path)"
      ],
      "execution_count": null,
      "outputs": [
        {
          "output_type": "stream",
          "name": "stdout",
          "text": [
            "['monografia_especializacion/text_analysis', '', '/content', '/env/python', '/usr/lib/python37.zip', '/usr/lib/python3.7', '/usr/lib/python3.7/lib-dynload', '/usr/local/lib/python3.7/dist-packages', '/usr/lib/python3/dist-packages', '/usr/local/lib/python3.7/dist-packages/IPython/extensions', '/root/.ipython']\n"
          ]
        }
      ]
    },
    {
      "cell_type": "code",
      "metadata": {
        "colab": {
          "base_uri": "https://localhost:8080/"
        },
        "id": "BqFdh6ZGkxYT",
        "outputId": "09f1429d-b3aa-4835-8389-5062052318a2"
      },
      "source": [
        "# Instalar paquetes necesarios para las librerias propias\n",
        "!pip install -r monografia_especializacion/text_analysis/requirements.txt"
      ],
      "execution_count": null,
      "outputs": [
        {
          "output_type": "stream",
          "name": "stdout",
          "text": [
            "Collecting google-play-scraper\n",
            "  Downloading google-play-scraper-1.0.2.tar.gz (52 kB)\n",
            "\u001b[K     |████████████████████████████████| 52 kB 1.2 MB/s \n",
            "\u001b[?25hRequirement already satisfied: matplotlib in /usr/local/lib/python3.7/dist-packages (from -r monografia_especializacion/text_analysis/requirements.txt (line 2)) (3.2.2)\n",
            "Requirement already satisfied: numpy in /usr/local/lib/python3.7/dist-packages (from -r monografia_especializacion/text_analysis/requirements.txt (line 3)) (1.19.5)\n",
            "Requirement already satisfied: pandas in /usr/local/lib/python3.7/dist-packages (from -r monografia_especializacion/text_analysis/requirements.txt (line 4)) (1.1.5)\n",
            "Requirement already satisfied: python-dateutil in /usr/local/lib/python3.7/dist-packages (from -r monografia_especializacion/text_analysis/requirements.txt (line 5)) (2.8.2)\n",
            "Requirement already satisfied: six in /usr/local/lib/python3.7/dist-packages (from -r monografia_especializacion/text_analysis/requirements.txt (line 6)) (1.15.0)\n",
            "Collecting pycodestyle\n",
            "  Downloading pycodestyle-2.8.0-py2.py3-none-any.whl (42 kB)\n",
            "\u001b[K     |████████████████████████████████| 42 kB 971 kB/s \n",
            "\u001b[?25hRequirement already satisfied: spacy in /usr/local/lib/python3.7/dist-packages (from -r monografia_especializacion/text_analysis/requirements.txt (line 8)) (2.2.4)\n",
            "Requirement already satisfied: nltk in /usr/local/lib/python3.7/dist-packages (from -r monografia_especializacion/text_analysis/requirements.txt (line 9)) (3.2.5)\n",
            "Collecting tensorflow_text\n",
            "  Downloading tensorflow_text-2.7.3-cp37-cp37m-manylinux2010_x86_64.whl (4.9 MB)\n",
            "\u001b[K     |████████████████████████████████| 4.9 MB 8.6 MB/s \n",
            "\u001b[?25hRequirement already satisfied: kiwisolver>=1.0.1 in /usr/local/lib/python3.7/dist-packages (from matplotlib->-r monografia_especializacion/text_analysis/requirements.txt (line 2)) (1.3.2)\n",
            "Requirement already satisfied: pyparsing!=2.0.4,!=2.1.2,!=2.1.6,>=2.0.1 in /usr/local/lib/python3.7/dist-packages (from matplotlib->-r monografia_especializacion/text_analysis/requirements.txt (line 2)) (3.0.6)\n",
            "Requirement already satisfied: cycler>=0.10 in /usr/local/lib/python3.7/dist-packages (from matplotlib->-r monografia_especializacion/text_analysis/requirements.txt (line 2)) (0.11.0)\n",
            "Requirement already satisfied: pytz>=2017.2 in /usr/local/lib/python3.7/dist-packages (from pandas->-r monografia_especializacion/text_analysis/requirements.txt (line 4)) (2018.9)\n",
            "Requirement already satisfied: setuptools in /usr/local/lib/python3.7/dist-packages (from spacy->-r monografia_especializacion/text_analysis/requirements.txt (line 8)) (57.4.0)\n",
            "Requirement already satisfied: srsly<1.1.0,>=1.0.2 in /usr/local/lib/python3.7/dist-packages (from spacy->-r monografia_especializacion/text_analysis/requirements.txt (line 8)) (1.0.5)\n",
            "Requirement already satisfied: murmurhash<1.1.0,>=0.28.0 in /usr/local/lib/python3.7/dist-packages (from spacy->-r monografia_especializacion/text_analysis/requirements.txt (line 8)) (1.0.6)\n",
            "Requirement already satisfied: catalogue<1.1.0,>=0.0.7 in /usr/local/lib/python3.7/dist-packages (from spacy->-r monografia_especializacion/text_analysis/requirements.txt (line 8)) (1.0.0)\n",
            "Requirement already satisfied: cymem<2.1.0,>=2.0.2 in /usr/local/lib/python3.7/dist-packages (from spacy->-r monografia_especializacion/text_analysis/requirements.txt (line 8)) (2.0.6)\n",
            "Requirement already satisfied: tqdm<5.0.0,>=4.38.0 in /usr/local/lib/python3.7/dist-packages (from spacy->-r monografia_especializacion/text_analysis/requirements.txt (line 8)) (4.62.3)\n",
            "Requirement already satisfied: preshed<3.1.0,>=3.0.2 in /usr/local/lib/python3.7/dist-packages (from spacy->-r monografia_especializacion/text_analysis/requirements.txt (line 8)) (3.0.6)\n",
            "Requirement already satisfied: plac<1.2.0,>=0.9.6 in /usr/local/lib/python3.7/dist-packages (from spacy->-r monografia_especializacion/text_analysis/requirements.txt (line 8)) (1.1.3)\n",
            "Requirement already satisfied: blis<0.5.0,>=0.4.0 in /usr/local/lib/python3.7/dist-packages (from spacy->-r monografia_especializacion/text_analysis/requirements.txt (line 8)) (0.4.1)\n",
            "Requirement already satisfied: thinc==7.4.0 in /usr/local/lib/python3.7/dist-packages (from spacy->-r monografia_especializacion/text_analysis/requirements.txt (line 8)) (7.4.0)\n",
            "Requirement already satisfied: wasabi<1.1.0,>=0.4.0 in /usr/local/lib/python3.7/dist-packages (from spacy->-r monografia_especializacion/text_analysis/requirements.txt (line 8)) (0.8.2)\n",
            "Requirement already satisfied: requests<3.0.0,>=2.13.0 in /usr/local/lib/python3.7/dist-packages (from spacy->-r monografia_especializacion/text_analysis/requirements.txt (line 8)) (2.23.0)\n",
            "Requirement already satisfied: importlib-metadata>=0.20 in /usr/local/lib/python3.7/dist-packages (from catalogue<1.1.0,>=0.0.7->spacy->-r monografia_especializacion/text_analysis/requirements.txt (line 8)) (4.8.2)\n",
            "Requirement already satisfied: typing-extensions>=3.6.4 in /usr/local/lib/python3.7/dist-packages (from importlib-metadata>=0.20->catalogue<1.1.0,>=0.0.7->spacy->-r monografia_especializacion/text_analysis/requirements.txt (line 8)) (3.10.0.2)\n",
            "Requirement already satisfied: zipp>=0.5 in /usr/local/lib/python3.7/dist-packages (from importlib-metadata>=0.20->catalogue<1.1.0,>=0.0.7->spacy->-r monografia_especializacion/text_analysis/requirements.txt (line 8)) (3.6.0)\n",
            "Requirement already satisfied: idna<3,>=2.5 in /usr/local/lib/python3.7/dist-packages (from requests<3.0.0,>=2.13.0->spacy->-r monografia_especializacion/text_analysis/requirements.txt (line 8)) (2.10)\n",
            "Requirement already satisfied: chardet<4,>=3.0.2 in /usr/local/lib/python3.7/dist-packages (from requests<3.0.0,>=2.13.0->spacy->-r monografia_especializacion/text_analysis/requirements.txt (line 8)) (3.0.4)\n",
            "Requirement already satisfied: urllib3!=1.25.0,!=1.25.1,<1.26,>=1.21.1 in /usr/local/lib/python3.7/dist-packages (from requests<3.0.0,>=2.13.0->spacy->-r monografia_especializacion/text_analysis/requirements.txt (line 8)) (1.24.3)\n",
            "Requirement already satisfied: certifi>=2017.4.17 in /usr/local/lib/python3.7/dist-packages (from requests<3.0.0,>=2.13.0->spacy->-r monografia_especializacion/text_analysis/requirements.txt (line 8)) (2021.10.8)\n",
            "Requirement already satisfied: tensorflow-hub>=0.8.0 in /usr/local/lib/python3.7/dist-packages (from tensorflow_text->-r monografia_especializacion/text_analysis/requirements.txt (line 10)) (0.12.0)\n",
            "Requirement already satisfied: tensorflow<2.8,>=2.7.0 in /usr/local/lib/python3.7/dist-packages (from tensorflow_text->-r monografia_especializacion/text_analysis/requirements.txt (line 10)) (2.7.0)\n",
            "Requirement already satisfied: tensorboard~=2.6 in /usr/local/lib/python3.7/dist-packages (from tensorflow<2.8,>=2.7.0->tensorflow_text->-r monografia_especializacion/text_analysis/requirements.txt (line 10)) (2.7.0)\n",
            "Requirement already satisfied: tensorflow-estimator<2.8,~=2.7.0rc0 in /usr/local/lib/python3.7/dist-packages (from tensorflow<2.8,>=2.7.0->tensorflow_text->-r monografia_especializacion/text_analysis/requirements.txt (line 10)) (2.7.0)\n",
            "Requirement already satisfied: astunparse>=1.6.0 in /usr/local/lib/python3.7/dist-packages (from tensorflow<2.8,>=2.7.0->tensorflow_text->-r monografia_especializacion/text_analysis/requirements.txt (line 10)) (1.6.3)\n",
            "Requirement already satisfied: wheel<1.0,>=0.32.0 in /usr/local/lib/python3.7/dist-packages (from tensorflow<2.8,>=2.7.0->tensorflow_text->-r monografia_especializacion/text_analysis/requirements.txt (line 10)) (0.37.0)\n",
            "Requirement already satisfied: grpcio<2.0,>=1.24.3 in /usr/local/lib/python3.7/dist-packages (from tensorflow<2.8,>=2.7.0->tensorflow_text->-r monografia_especializacion/text_analysis/requirements.txt (line 10)) (1.42.0)\n",
            "Requirement already satisfied: protobuf>=3.9.2 in /usr/local/lib/python3.7/dist-packages (from tensorflow<2.8,>=2.7.0->tensorflow_text->-r monografia_especializacion/text_analysis/requirements.txt (line 10)) (3.17.3)\n",
            "Requirement already satisfied: keras-preprocessing>=1.1.1 in /usr/local/lib/python3.7/dist-packages (from tensorflow<2.8,>=2.7.0->tensorflow_text->-r monografia_especializacion/text_analysis/requirements.txt (line 10)) (1.1.2)\n",
            "Requirement already satisfied: google-pasta>=0.1.1 in /usr/local/lib/python3.7/dist-packages (from tensorflow<2.8,>=2.7.0->tensorflow_text->-r monografia_especializacion/text_analysis/requirements.txt (line 10)) (0.2.0)\n",
            "Requirement already satisfied: opt-einsum>=2.3.2 in /usr/local/lib/python3.7/dist-packages (from tensorflow<2.8,>=2.7.0->tensorflow_text->-r monografia_especializacion/text_analysis/requirements.txt (line 10)) (3.3.0)\n",
            "Requirement already satisfied: flatbuffers<3.0,>=1.12 in /usr/local/lib/python3.7/dist-packages (from tensorflow<2.8,>=2.7.0->tensorflow_text->-r monografia_especializacion/text_analysis/requirements.txt (line 10)) (2.0)\n",
            "Requirement already satisfied: wrapt>=1.11.0 in /usr/local/lib/python3.7/dist-packages (from tensorflow<2.8,>=2.7.0->tensorflow_text->-r monografia_especializacion/text_analysis/requirements.txt (line 10)) (1.13.3)\n",
            "Requirement already satisfied: h5py>=2.9.0 in /usr/local/lib/python3.7/dist-packages (from tensorflow<2.8,>=2.7.0->tensorflow_text->-r monografia_especializacion/text_analysis/requirements.txt (line 10)) (3.1.0)\n",
            "Requirement already satisfied: tensorflow-io-gcs-filesystem>=0.21.0 in /usr/local/lib/python3.7/dist-packages (from tensorflow<2.8,>=2.7.0->tensorflow_text->-r monografia_especializacion/text_analysis/requirements.txt (line 10)) (0.22.0)\n",
            "Requirement already satisfied: termcolor>=1.1.0 in /usr/local/lib/python3.7/dist-packages (from tensorflow<2.8,>=2.7.0->tensorflow_text->-r monografia_especializacion/text_analysis/requirements.txt (line 10)) (1.1.0)\n",
            "Requirement already satisfied: keras<2.8,>=2.7.0rc0 in /usr/local/lib/python3.7/dist-packages (from tensorflow<2.8,>=2.7.0->tensorflow_text->-r monografia_especializacion/text_analysis/requirements.txt (line 10)) (2.7.0)\n",
            "Requirement already satisfied: absl-py>=0.4.0 in /usr/local/lib/python3.7/dist-packages (from tensorflow<2.8,>=2.7.0->tensorflow_text->-r monografia_especializacion/text_analysis/requirements.txt (line 10)) (0.12.0)\n",
            "Requirement already satisfied: libclang>=9.0.1 in /usr/local/lib/python3.7/dist-packages (from tensorflow<2.8,>=2.7.0->tensorflow_text->-r monografia_especializacion/text_analysis/requirements.txt (line 10)) (12.0.0)\n",
            "Requirement already satisfied: gast<0.5.0,>=0.2.1 in /usr/local/lib/python3.7/dist-packages (from tensorflow<2.8,>=2.7.0->tensorflow_text->-r monografia_especializacion/text_analysis/requirements.txt (line 10)) (0.4.0)\n",
            "Requirement already satisfied: cached-property in /usr/local/lib/python3.7/dist-packages (from h5py>=2.9.0->tensorflow<2.8,>=2.7.0->tensorflow_text->-r monografia_especializacion/text_analysis/requirements.txt (line 10)) (1.5.2)\n",
            "Requirement already satisfied: markdown>=2.6.8 in /usr/local/lib/python3.7/dist-packages (from tensorboard~=2.6->tensorflow<2.8,>=2.7.0->tensorflow_text->-r monografia_especializacion/text_analysis/requirements.txt (line 10)) (3.3.6)\n",
            "Requirement already satisfied: werkzeug>=0.11.15 in /usr/local/lib/python3.7/dist-packages (from tensorboard~=2.6->tensorflow<2.8,>=2.7.0->tensorflow_text->-r monografia_especializacion/text_analysis/requirements.txt (line 10)) (1.0.1)\n",
            "Requirement already satisfied: google-auth-oauthlib<0.5,>=0.4.1 in /usr/local/lib/python3.7/dist-packages (from tensorboard~=2.6->tensorflow<2.8,>=2.7.0->tensorflow_text->-r monografia_especializacion/text_analysis/requirements.txt (line 10)) (0.4.6)\n",
            "Requirement already satisfied: tensorboard-data-server<0.7.0,>=0.6.0 in /usr/local/lib/python3.7/dist-packages (from tensorboard~=2.6->tensorflow<2.8,>=2.7.0->tensorflow_text->-r monografia_especializacion/text_analysis/requirements.txt (line 10)) (0.6.1)\n",
            "Requirement already satisfied: tensorboard-plugin-wit>=1.6.0 in /usr/local/lib/python3.7/dist-packages (from tensorboard~=2.6->tensorflow<2.8,>=2.7.0->tensorflow_text->-r monografia_especializacion/text_analysis/requirements.txt (line 10)) (1.8.0)\n",
            "Requirement already satisfied: google-auth<3,>=1.6.3 in /usr/local/lib/python3.7/dist-packages (from tensorboard~=2.6->tensorflow<2.8,>=2.7.0->tensorflow_text->-r monografia_especializacion/text_analysis/requirements.txt (line 10)) (1.35.0)\n",
            "Requirement already satisfied: cachetools<5.0,>=2.0.0 in /usr/local/lib/python3.7/dist-packages (from google-auth<3,>=1.6.3->tensorboard~=2.6->tensorflow<2.8,>=2.7.0->tensorflow_text->-r monografia_especializacion/text_analysis/requirements.txt (line 10)) (4.2.4)\n",
            "Requirement already satisfied: rsa<5,>=3.1.4 in /usr/local/lib/python3.7/dist-packages (from google-auth<3,>=1.6.3->tensorboard~=2.6->tensorflow<2.8,>=2.7.0->tensorflow_text->-r monografia_especializacion/text_analysis/requirements.txt (line 10)) (4.7.2)\n",
            "Requirement already satisfied: pyasn1-modules>=0.2.1 in /usr/local/lib/python3.7/dist-packages (from google-auth<3,>=1.6.3->tensorboard~=2.6->tensorflow<2.8,>=2.7.0->tensorflow_text->-r monografia_especializacion/text_analysis/requirements.txt (line 10)) (0.2.8)\n",
            "Requirement already satisfied: requests-oauthlib>=0.7.0 in /usr/local/lib/python3.7/dist-packages (from google-auth-oauthlib<0.5,>=0.4.1->tensorboard~=2.6->tensorflow<2.8,>=2.7.0->tensorflow_text->-r monografia_especializacion/text_analysis/requirements.txt (line 10)) (1.3.0)\n",
            "Requirement already satisfied: pyasn1<0.5.0,>=0.4.6 in /usr/local/lib/python3.7/dist-packages (from pyasn1-modules>=0.2.1->google-auth<3,>=1.6.3->tensorboard~=2.6->tensorflow<2.8,>=2.7.0->tensorflow_text->-r monografia_especializacion/text_analysis/requirements.txt (line 10)) (0.4.8)\n",
            "Requirement already satisfied: oauthlib>=3.0.0 in /usr/local/lib/python3.7/dist-packages (from requests-oauthlib>=0.7.0->google-auth-oauthlib<0.5,>=0.4.1->tensorboard~=2.6->tensorflow<2.8,>=2.7.0->tensorflow_text->-r monografia_especializacion/text_analysis/requirements.txt (line 10)) (3.1.1)\n",
            "Building wheels for collected packages: google-play-scraper\n",
            "  Building wheel for google-play-scraper (setup.py) ... \u001b[?25l\u001b[?25hdone\n",
            "  Created wheel for google-play-scraper: filename=google_play_scraper-1.0.2-py3-none-any.whl size=24393 sha256=adec61db3ce135c48ce0dc59058e6712859a6e99a2dbc6fa88ee4d981974e178\n",
            "  Stored in directory: /root/.cache/pip/wheels/98/99/eb/bbb9d24a5c526980647efc10336eaaeffcf07749f581111128\n",
            "Successfully built google-play-scraper\n",
            "Installing collected packages: tensorflow-text, pycodestyle, google-play-scraper\n",
            "Successfully installed google-play-scraper-1.0.2 pycodestyle-2.8.0 tensorflow-text-2.7.3\n"
          ]
        }
      ]
    },
    {
      "cell_type": "code",
      "metadata": {
        "colab": {
          "base_uri": "https://localhost:8080/"
        },
        "id": "etfuq3zNk__A",
        "outputId": "1515b064-3168-41c8-cfd6-f1814bfa02f5"
      },
      "source": [
        "# Descargas necesarias del paquete nltk\n",
        "import nltk\n",
        "nltk.download('stopwords')\n",
        "nltk.download('punkt')"
      ],
      "execution_count": null,
      "outputs": [
        {
          "output_type": "stream",
          "name": "stdout",
          "text": [
            "[nltk_data] Downloading package stopwords to /root/nltk_data...\n",
            "[nltk_data]   Unzipping corpora/stopwords.zip.\n",
            "[nltk_data] Downloading package punkt to /root/nltk_data...\n",
            "[nltk_data]   Unzipping tokenizers/punkt.zip.\n"
          ]
        },
        {
          "output_type": "execute_result",
          "data": {
            "text/plain": [
              "True"
            ]
          },
          "metadata": {},
          "execution_count": 4
        }
      ]
    },
    {
      "cell_type": "code",
      "metadata": {
        "id": "dRB0iEbt58JO"
      },
      "source": [
        "## Cargar librerias\n",
        "import json\n",
        "import gzip\n",
        "import pandas as pd\n",
        "import numpy as np\n",
        "import tarfile\n",
        "import csv\n",
        "import re\n",
        "import os\n",
        "import matplotlib.pyplot as plt\n",
        "import seaborn as sns\n",
        "from text_analyzer.document import Document\n",
        "from text_analyzer.utils import plot_counter, counter_len\n",
        "from collections import Counter\n",
        "from sklearn.model_selection import train_test_split\n",
        "import tensorflow as tf\n",
        "import tensorflow_text\n",
        "import tensorflow_hub as hub"
      ],
      "execution_count": null,
      "outputs": []
    },
    {
      "cell_type": "code",
      "metadata": {
        "id": "Oc_XOC7kvKZ2"
      },
      "source": [
        "# Estilo para las gráficas\n",
        "sns.set_style(\"darkgrid\")"
      ],
      "execution_count": null,
      "outputs": []
    },
    {
      "cell_type": "code",
      "metadata": {
        "colab": {
          "base_uri": "https://localhost:8080/"
        },
        "id": "_-_Tx9M4DCGO",
        "outputId": "884e9848-7c48-4ded-a692-1e6729ef2761"
      },
      "source": [
        "# Descargar datos para training\n",
        "!wget https://s3.amazonaws.com/fast-ai-nlp/amazon_review_polarity_csv.tgz"
      ],
      "execution_count": null,
      "outputs": [
        {
          "output_type": "stream",
          "name": "stdout",
          "text": [
            "--2021-11-28 01:06:21--  https://s3.amazonaws.com/fast-ai-nlp/amazon_review_polarity_csv.tgz\n",
            "Resolving s3.amazonaws.com (s3.amazonaws.com)... 52.217.231.16\n",
            "Connecting to s3.amazonaws.com (s3.amazonaws.com)|52.217.231.16|:443... connected.\n",
            "HTTP request sent, awaiting response... 200 OK\n",
            "Length: 688339454 (656M) [application/x-tar]\n",
            "Saving to: ‘amazon_review_polarity_csv.tgz’\n",
            "\n",
            "amazon_review_polar 100%[===================>] 656.45M  16.4MB/s    in 42s     \n",
            "\n",
            "2021-11-28 01:07:04 (15.6 MB/s) - ‘amazon_review_polarity_csv.tgz’ saved [688339454/688339454]\n",
            "\n"
          ]
        }
      ]
    },
    {
      "cell_type": "code",
      "metadata": {
        "id": "V9pL8gVADCPt"
      },
      "source": [
        "# Untar\n",
        "!tar -xf amazon_review_polarity_csv.tgz"
      ],
      "execution_count": null,
      "outputs": []
    },
    {
      "cell_type": "code",
      "metadata": {
        "colab": {
          "base_uri": "https://localhost:8080/"
        },
        "id": "vXSzJ1ANDCSJ",
        "outputId": "4fceec83-b495-4660-b771-20277002c294"
      },
      "source": [
        "# Cargar 500.000 mil datos y preprocesar labels\n",
        "path = 'amazon_review_polarity_csv/train.csv'\n",
        "\n",
        "def get_data(path):\n",
        "  with open(path, 'r') as f:\n",
        "    reader = csv.reader(f)\n",
        "    for row in reader:\n",
        "      yield row\n",
        "d = get_data(path)\n",
        "\n",
        "data = []\n",
        "limit = 0\n",
        "for i in d:\n",
        "  if limit == 500000:\n",
        "    break\n",
        "  data.append({'sentiment':int(i[0])-1, 'title':i[1], 'review': i[2]}) \n",
        "  limit +=1\n",
        "data[:10]"
      ],
      "execution_count": null,
      "outputs": [
        {
          "output_type": "execute_result",
          "data": {
            "text/plain": [
              "[{'review': 'This sound track was beautiful! It paints the senery in your mind so well I would recomend it even to people who hate vid. game music! I have played the game Chrono Cross but out of all of the games I have ever played it has the best music! It backs away from crude keyboarding and takes a fresher step with grate guitars and soulful orchestras. It would impress anyone who cares to listen! ^_^',\n",
              "  'sentiment': 1,\n",
              "  'title': 'Stuning even for the non-gamer'},\n",
              " {'review': \"I'm reading a lot of reviews saying that this is the best 'game soundtrack' and I figured that I'd write a review to disagree a bit. This in my opinino is Yasunori Mitsuda's ultimate masterpiece. The music is timeless and I'm been listening to it for years now and its beauty simply refuses to fade.The price tag on this is pretty staggering I must say, but if you are going to buy any cd for this much money, this is the only one that I feel would be worth every penny.\",\n",
              "  'sentiment': 1,\n",
              "  'title': 'The best soundtrack ever to anything.'},\n",
              " {'review': 'This soundtrack is my favorite music of all time, hands down. The intense sadness of \"Prisoners of Fate\" (which means all the more if you\\'ve played the game) and the hope in \"A Distant Promise\" and \"Girl who Stole the Star\" have been an important inspiration to me personally throughout my teen years. The higher energy tracks like \"Chrono Cross ~ Time\\'s Scar~\", \"Time of the Dreamwatch\", and \"Chronomantique\" (indefinably remeniscent of Chrono Trigger) are all absolutely superb as well.This soundtrack is amazing music, probably the best of this composer\\'s work (I haven\\'t heard the Xenogears soundtrack, so I can\\'t say for sure), and even if you\\'ve never played the game, it would be worth twice the price to buy it.I wish I could give it 6 stars.',\n",
              "  'sentiment': 1,\n",
              "  'title': 'Amazing!'},\n",
              " {'review': \"I truly like this soundtrack and I enjoy video game music. I have played this game and most of the music on here I enjoy and it's truly relaxing and peaceful.On disk one. my favorites are Scars Of Time, Between Life and Death, Forest Of Illusion, Fortress of Ancient Dragons, Lost Fragment, and Drowned Valley.Disk Two: The Draggons, Galdorb - Home, Chronomantique, Prisoners of Fate, Gale, and my girlfriend likes ZelbessDisk Three: The best of the three. Garden Of God, Chronopolis, Fates, Jellyfish sea, Burning Orphange, Dragon's Prayer, Tower Of Stars, Dragon God, and Radical Dreamers - Unstealable Jewel.Overall, this is a excellent soundtrack and should be brought by those that like video game music.Xander Cross\",\n",
              "  'sentiment': 1,\n",
              "  'title': 'Excellent Soundtrack'},\n",
              " {'review': \"If you've played the game, you know how divine the music is! Every single song tells a story of the game, it's that good! The greatest songs are without a doubt, Chrono Cross: Time's Scar, Magical Dreamers: The Wind, The Stars, and the Sea and Radical Dreamers: Unstolen Jewel. (Translation varies) This music is perfect if you ask me, the best it can be. Yasunori Mitsuda just poured his heart on and wrote it down on paper.\",\n",
              "  'sentiment': 1,\n",
              "  'title': 'Remember, Pull Your Jaw Off The Floor After Hearing it'},\n",
              " {'review': \"I am quite sure any of you actually taking the time to read this have played the game at least once, and heard at least a few of the tracks here. And whether you were aware of it or not, Mitsuda's music contributed greatly to the mood of every single minute of the whole game.Composed of 3 CDs and quite a few songs (I haven't an exact count), all of which are heart-rendering and impressively remarkable, this soundtrack is one I assure you you will not forget. It has everything for every listener -- from fast-paced and energetic (Dancing the Tokage or Termina Home), to slower and more haunting (Dragon God), to purely beautifully composed (Time's Scar), to even some fantastic vocals (Radical Dreamers).This is one of the best videogame soundtracks out there, and surely Mitsuda's best ever. ^_^\",\n",
              "  'sentiment': 1,\n",
              "  'title': 'an absolute masterpiece'},\n",
              " {'review': 'This is a self-published book, and if you want to know why--read a few paragraphs! Those 5 star reviews must have been written by Ms. Haddon\\'s family and friends--or perhaps, by herself! I can\\'t imagine anyone reading the whole thing--I spent an evening with the book and a friend and we were in hysterics reading bits and pieces of it to one another. It is most definitely bad enough to be entered into some kind of a \"worst book\" contest. I can\\'t believe Amazon even sells this kind of thing. Maybe I can offer them my 8th grade term paper on \"To Kill a Mockingbird\"--a book I am quite sure Ms. Haddon never heard of. Anyway, unless you are in a mood to send a book to someone as a joke---stay far, far away from this one!',\n",
              "  'sentiment': 0,\n",
              "  'title': 'Buyer beware'},\n",
              " {'review': 'I loved Whisper of the wicked saints. The story was amazing and I was pleasantly surprised at the changes in the book. I am not normaly someone who is into romance novels, but the world was raving about this book and so I bought it. I loved it !! This is a brilliant story because it is so true. This book was so wonderful that I have told all of my friends to read it. It is not a typical romance, it is so much more. Not reading this book is a crime, becuase you are missing out on a heart warming story.',\n",
              "  'sentiment': 1,\n",
              "  'title': 'Glorious story'},\n",
              " {'review': \"I just finished reading Whisper of the Wicked saints. I fell in love with the caracters. I expected an average romance read, but instead I found one of my favorite books of all time. Just when I thought I could predict the outcome I was shocked ! The writting was so descriptive that my heart broke when Julia's did and I felt as if I was there with them instead of just a distant reader. If you are a lover of romance novels then this is a must read. Don't let the cover fool you this book is spectacular!\",\n",
              "  'sentiment': 1,\n",
              "  'title': 'A FIVE STAR BOOK'},\n",
              " {'review': 'This was a easy to read book that made me want to keep reading on and on, not easy to put down.It left me wanting to read the follow on, which I hope is coming soon. I used to read a lot but have gotten away from it. This book made me want to read again. Very enjoyable.',\n",
              "  'sentiment': 1,\n",
              "  'title': 'Whispers of the Wicked Saints'}]"
            ]
          },
          "metadata": {},
          "execution_count": 9
        }
      ]
    },
    {
      "cell_type": "markdown",
      "metadata": {
        "id": "EB_95hkVMjiZ"
      },
      "source": [
        "###  **ANALISIS EXPLORATORIO & PROCESAMIENTO DE INFORMACIÓN**"
      ]
    },
    {
      "cell_type": "code",
      "metadata": {
        "colab": {
          "base_uri": "https://localhost:8080/",
          "height": 321
        },
        "id": "XDDRjRWiDCcx",
        "outputId": "4fd52f0f-7db2-4c6b-e746-1f5f6521e6e0"
      },
      "source": [
        "# Palabras que más se repiten dentro del dataset\n",
        "df = Document(data, 'review')\n",
        "\n",
        "print(df.word_counts.most_common(10))\n",
        "plot_counter(df.word_counts, n_most_common=10)\n",
        "plt.show()"
      ],
      "execution_count": null,
      "outputs": [
        {
          "output_type": "stream",
          "name": "stdout",
          "text": [
            "[('book', 264961), ('one', 183545), ('like', 144545), ('would', 121734), ('good', 119283), ('movie', 112699), ('great', 111028), ('read', 103958), ('get', 88774), ('time', 87382)]\n"
          ]
        },
        {
          "output_type": "display_data",
          "data": {
            "image/png": "[encoded data removed]",
            "text/plain": [
              "<Figure size 432x288 with 1 Axes>"
            ]
          },
          "metadata": {}
        }
      ]
    },
    {
      "cell_type": "code",
      "metadata": {
        "colab": {
          "base_uri": "https://localhost:8080/",
          "height": 424
        },
        "id": "uUj3kcp442ns",
        "outputId": "3390cae5-7ed8-42d3-cc52-876294134841"
      },
      "source": [
        "# Creamos un dataframe con la lista de diccionarios\n",
        "df = pd.DataFrame(data)\n",
        "df"
      ],
      "execution_count": null,
      "outputs": [
        {
          "output_type": "execute_result",
          "data": {
            "text/html": [
              "<div>\n",
              "<style scoped>\n",
              "    .dataframe tbody tr th:only-of-type {\n",
              "        vertical-align: middle;\n",
              "    }\n",
              "\n",
              "    .dataframe tbody tr th {\n",
              "        vertical-align: top;\n",
              "    }\n",
              "\n",
              "    .dataframe thead th {\n",
              "        text-align: right;\n",
              "    }\n",
              "</style>\n",
              "<table border=\"1\" class=\"dataframe\">\n",
              "  <thead>\n",
              "    <tr style=\"text-align: right;\">\n",
              "      <th></th>\n",
              "      <th>sentiment</th>\n",
              "      <th>title</th>\n",
              "      <th>review</th>\n",
              "    </tr>\n",
              "  </thead>\n",
              "  <tbody>\n",
              "    <tr>\n",
              "      <th>0</th>\n",
              "      <td>1</td>\n",
              "      <td>Stuning even for the non-gamer</td>\n",
              "      <td>This sound track was beautiful! It paints the ...</td>\n",
              "    </tr>\n",
              "    <tr>\n",
              "      <th>1</th>\n",
              "      <td>1</td>\n",
              "      <td>The best soundtrack ever to anything.</td>\n",
              "      <td>I'm reading a lot of reviews saying that this ...</td>\n",
              "    </tr>\n",
              "    <tr>\n",
              "      <th>2</th>\n",
              "      <td>1</td>\n",
              "      <td>Amazing!</td>\n",
              "      <td>This soundtrack is my favorite music of all ti...</td>\n",
              "    </tr>\n",
              "    <tr>\n",
              "      <th>3</th>\n",
              "      <td>1</td>\n",
              "      <td>Excellent Soundtrack</td>\n",
              "      <td>I truly like this soundtrack and I enjoy video...</td>\n",
              "    </tr>\n",
              "    <tr>\n",
              "      <th>4</th>\n",
              "      <td>1</td>\n",
              "      <td>Remember, Pull Your Jaw Off The Floor After He...</td>\n",
              "      <td>If you've played the game, you know how divine...</td>\n",
              "    </tr>\n",
              "    <tr>\n",
              "      <th>...</th>\n",
              "      <td>...</td>\n",
              "      <td>...</td>\n",
              "      <td>...</td>\n",
              "    </tr>\n",
              "    <tr>\n",
              "      <th>499995</th>\n",
              "      <td>0</td>\n",
              "      <td>Prepare for offence</td>\n",
              "      <td>Ridley's conjecture and supposition swirling a...</td>\n",
              "    </tr>\n",
              "    <tr>\n",
              "      <th>499996</th>\n",
              "      <td>1</td>\n",
              "      <td>This is a great song but BUY THE ALBUM.</td>\n",
              "      <td>Trust me, you'd much rather buy the album than...</td>\n",
              "    </tr>\n",
              "    <tr>\n",
              "      <th>499997</th>\n",
              "      <td>0</td>\n",
              "      <td>What happen to Fram gas filter's Quality ???</td>\n",
              "      <td>I used this same number of Fram filter before ...</td>\n",
              "    </tr>\n",
              "    <tr>\n",
              "      <th>499998</th>\n",
              "      <td>0</td>\n",
              "      <td>NO FILTER ON 2003 Hyundai XG350L!!!</td>\n",
              "      <td>There is no fuel filter on this year/make. Tru...</td>\n",
              "    </tr>\n",
              "    <tr>\n",
              "      <th>499999</th>\n",
              "      <td>0</td>\n",
              "      <td>What a pain!</td>\n",
              "      <td>This item was not easy to put up. It took a wh...</td>\n",
              "    </tr>\n",
              "  </tbody>\n",
              "</table>\n",
              "<p>500000 rows × 3 columns</p>\n",
              "</div>"
            ],
            "text/plain": [
              "        sentiment  ...                                             review\n",
              "0               1  ...  This sound track was beautiful! It paints the ...\n",
              "1               1  ...  I'm reading a lot of reviews saying that this ...\n",
              "2               1  ...  This soundtrack is my favorite music of all ti...\n",
              "3               1  ...  I truly like this soundtrack and I enjoy video...\n",
              "4               1  ...  If you've played the game, you know how divine...\n",
              "...           ...  ...                                                ...\n",
              "499995          0  ...  Ridley's conjecture and supposition swirling a...\n",
              "499996          1  ...  Trust me, you'd much rather buy the album than...\n",
              "499997          0  ...  I used this same number of Fram filter before ...\n",
              "499998          0  ...  There is no fuel filter on this year/make. Tru...\n",
              "499999          0  ...  This item was not easy to put up. It took a wh...\n",
              "\n",
              "[500000 rows x 3 columns]"
            ]
          },
          "metadata": {},
          "execution_count": 10
        }
      ]
    },
    {
      "cell_type": "code",
      "metadata": {
        "colab": {
          "base_uri": "https://localhost:8080/"
        },
        "id": "3OcqUy4TElGl",
        "outputId": "8b74cf4b-c0f0-4443-ec24-34d56ca6d635"
      },
      "source": [
        "# Obteniendo información de las variables y su tipo de dato.\n",
        "df.info()"
      ],
      "execution_count": null,
      "outputs": [
        {
          "output_type": "stream",
          "name": "stdout",
          "text": [
            "<class 'pandas.core.frame.DataFrame'>\n",
            "RangeIndex: 500000 entries, 0 to 499999\n",
            "Data columns (total 3 columns):\n",
            " #   Column     Non-Null Count   Dtype \n",
            "---  ------     --------------   ----- \n",
            " 0   sentiment  500000 non-null  int64 \n",
            " 1   title      500000 non-null  object\n",
            " 2   review     500000 non-null  object\n",
            "dtypes: int64(1), object(2)\n",
            "memory usage: 11.4+ MB\n"
          ]
        }
      ]
    },
    {
      "cell_type": "code",
      "metadata": {
        "colab": {
          "base_uri": "https://localhost:8080/"
        },
        "id": "2WS04q_JzsXQ",
        "outputId": "600bde0d-cbb2-45cb-87d2-5a7c26d7af77"
      },
      "source": [
        "## Exploramos la variable sentiment para ver la proporción\n",
        "df[\"sentiment\"].value_counts(True)"
      ],
      "execution_count": null,
      "outputs": [
        {
          "output_type": "execute_result",
          "data": {
            "text/plain": [
              "1    0.505564\n",
              "0    0.494436\n",
              "Name: sentiment, dtype: float64"
            ]
          },
          "metadata": {},
          "execution_count": 13
        }
      ]
    },
    {
      "cell_type": "code",
      "metadata": {
        "colab": {
          "base_uri": "https://localhost:8080/"
        },
        "id": "Hm2X_6ms1JN2",
        "outputId": "dd8771e7-557a-4bc5-9f8a-79dd029f3404"
      },
      "source": [
        "## Exploramos los datos nulos por columna\n",
        "for i in df.columns:\n",
        "  print(\"La columna {} tiene {} datos nulos de {} lo cual representa un {}% de datos nulos.\".format(i,df[i].isnull().sum(),len(df),round(df[i].isnull().sum()/len(df)*100,2))) "
      ],
      "execution_count": null,
      "outputs": [
        {
          "output_type": "stream",
          "name": "stdout",
          "text": [
            "La columna sentiment tiene 0 datos nulos de 500000 lo cual representa un 0.0% de datos nulos.\n",
            "La columna title tiene 0 datos nulos de 500000 lo cual representa un 0.0% de datos nulos.\n",
            "La columna review tiene 0 datos nulos de 500000 lo cual representa un 0.0% de datos nulos.\n"
          ]
        }
      ]
    },
    {
      "cell_type": "code",
      "metadata": {
        "colab": {
          "base_uri": "https://localhost:8080/",
          "height": 373
        },
        "id": "5pkVDGuf0Ivf",
        "outputId": "d85f4902-b984-468f-aab9-7ee531c636e5"
      },
      "source": [
        "## Barplot de la variable sentiment\n",
        "g=sns.catplot(x=\"sentiment\",kind=\"count\",data=df)\n",
        "g.set_axis_labels(\"Sentiment\",\"Number of reviews\")\n",
        "g.fig.suptitle('Count of Reviews verified')\n",
        "plt.show()"
      ],
      "execution_count": null,
      "outputs": [
        {
          "output_type": "display_data",
          "data": {
            "image/png": "[encoded data removed]",
            "text/plain": [
              "<Figure size 360x360 with 1 Axes>"
            ]
          },
          "metadata": {}
        }
      ]
    },
    {
      "cell_type": "code",
      "metadata": {
        "id": "9GY9O-pJ5tZt"
      },
      "source": [
        "## Ahora creamos un dataframe con las columnas que creemos necesarias para la predicción\n",
        "df = df[['review','sentiment']]"
      ],
      "execution_count": null,
      "outputs": []
    },
    {
      "cell_type": "code",
      "metadata": {
        "id": "7ZE9d5UX1dmx"
      },
      "source": [
        "# Construir modelo BERT\n",
        "def build_model():\n",
        "  text_input = tf.keras.layers.Input(shape=(), dtype=tf.string, name='text')\n",
        "  preprocessing_layer = hub.KerasLayer(\"https://tfhub.dev/tensorflow/bert_en_uncased_preprocess/3\", name='preprocessing')\n",
        "  encoder_inputs = preprocessing_layer(text_input)\n",
        "  encoder = hub.KerasLayer(\"https://tfhub.dev/tensorflow/bert_en_uncased_L-12_H-768_A-12/4\", trainable=False, name='BERT_encoder')\n",
        "  outputs = encoder(encoder_inputs)\n",
        "  net = outputs['pooled_output']\n",
        "  net = tf.keras.layers.Dropout(0.1)(net)\n",
        "  net = tf.keras.layers.Dense(1, activation='sigmoid', name='classifier')(net)\n",
        "  return tf.keras.Model(text_input, net)"
      ],
      "execution_count": null,
      "outputs": []
    },
    {
      "cell_type": "code",
      "metadata": {
        "id": "bqmNQLLd1g4A",
        "colab": {
          "base_uri": "https://localhost:8080/"
        },
        "outputId": "73488c09-a9da-4395-83e3-4aff2ddfce91"
      },
      "source": [
        "model = build_model()\n",
        "bert_raw_result = model(tf.constant(['I would not recommend this product']))\n",
        "print(bert_raw_result)"
      ],
      "execution_count": null,
      "outputs": [
        {
          "output_type": "stream",
          "name": "stdout",
          "text": [
            "tf.Tensor([[0.21840145]], shape=(1, 1), dtype=float32)\n"
          ]
        }
      ]
    },
    {
      "cell_type": "code",
      "metadata": {
        "id": "sd61cmx71g6a",
        "colab": {
          "base_uri": "https://localhost:8080/"
        },
        "outputId": "76ab3f30-764a-42d9-aaa4-85a1548faf59"
      },
      "source": [
        "model.summary()"
      ],
      "execution_count": null,
      "outputs": [
        {
          "output_type": "stream",
          "name": "stdout",
          "text": [
            "Model: \"model\"\n",
            "__________________________________________________________________________________________________\n",
            " Layer (type)                   Output Shape         Param #     Connected to                     \n",
            "==================================================================================================\n",
            " text (InputLayer)              [(None,)]            0           []                               \n",
            "                                                                                                  \n",
            " preprocessing (KerasLayer)     {'input_type_ids':   0           ['text[0][0]']                   \n",
            "                                (None, 128),                                                      \n",
            "                                 'input_mask': (Non                                               \n",
            "                                e, 128),                                                          \n",
            "                                 'input_word_ids':                                                \n",
            "                                (None, 128)}                                                      \n",
            "                                                                                                  \n",
            " BERT_encoder (KerasLayer)      {'encoder_outputs':  109482241   ['preprocessing[0][0]',          \n",
            "                                 [(None, 128, 768),               'preprocessing[0][1]',          \n",
            "                                 (None, 128, 768),                'preprocessing[0][2]']          \n",
            "                                 (None, 128, 768),                                                \n",
            "                                 (None, 128, 768),                                                \n",
            "                                 (None, 128, 768),                                                \n",
            "                                 (None, 128, 768),                                                \n",
            "                                 (None, 128, 768),                                                \n",
            "                                 (None, 128, 768),                                                \n",
            "                                 (None, 128, 768),                                                \n",
            "                                 (None, 128, 768),                                                \n",
            "                                 (None, 128, 768),                                                \n",
            "                                 (None, 128, 768)],                                               \n",
            "                                 'default': (None,                                                \n",
            "                                768),                                                             \n",
            "                                 'pooled_output': (                                               \n",
            "                                None, 768),                                                       \n",
            "                                 'sequence_output':                                               \n",
            "                                 (None, 128, 768)}                                                \n",
            "                                                                                                  \n",
            " dropout (Dropout)              (None, 768)          0           ['BERT_encoder[0][13]']          \n",
            "                                                                                                  \n",
            " classifier (Dense)             (None, 1)            769         ['dropout[0][0]']                \n",
            "                                                                                                  \n",
            "==================================================================================================\n",
            "Total params: 109,483,010\n",
            "Trainable params: 769\n",
            "Non-trainable params: 109,482,241\n",
            "__________________________________________________________________________________________________\n"
          ]
        }
      ]
    },
    {
      "cell_type": "code",
      "metadata": {
        "id": "I79TnMzx1g81",
        "colab": {
          "base_uri": "https://localhost:8080/",
          "height": 466
        },
        "outputId": "232f509f-23ba-42e0-a2ff-607adc545787"
      },
      "source": [
        "tf.keras.utils.plot_model(model)"
      ],
      "execution_count": null,
      "outputs": [
        {
          "output_type": "execute_result",
          "data": {
            "image/png": "[encoded data removed]",
            "text/plain": [
              "<IPython.core.display.Image object>"
            ]
          },
          "metadata": {},
          "execution_count": 24
        }
      ]
    },
    {
      "cell_type": "code",
      "metadata": {
        "id": "cLEN5kpv1g_H"
      },
      "source": [
        "X_train, X_test, y_train, y_test = train_test_split(df['review'],df['sentiment'], stratify=df['sentiment'], test_size=0.25,random_state=42)"
      ],
      "execution_count": null,
      "outputs": []
    },
    {
      "cell_type": "code",
      "metadata": {
        "colab": {
          "base_uri": "https://localhost:8080/"
        },
        "id": "_eEmiLmNI6X4",
        "outputId": "e2a0d09b-f1e6-4140-c74b-a6e30085b285"
      },
      "source": [
        "print(y_train.mean())\n",
        "print(y_test.mean())"
      ],
      "execution_count": null,
      "outputs": [
        {
          "output_type": "stream",
          "name": "stdout",
          "text": [
            "0.5055653333333333\n",
            "0.50556\n"
          ]
        }
      ]
    },
    {
      "cell_type": "code",
      "metadata": {
        "colab": {
          "base_uri": "https://localhost:8080/",
          "height": 265
        },
        "id": "TYW9s6K_JBNe",
        "outputId": "743c1e34-86a9-4a56-9194-96f6000ef2d9"
      },
      "source": [
        "plt.hist(y_train);"
      ],
      "execution_count": null,
      "outputs": [
        {
          "output_type": "display_data",
          "data": {
            "image/png": "[encoded data removed]",
            "text/plain": [
              "<Figure size 432x288 with 1 Axes>"
            ]
          },
          "metadata": {}
        }
      ]
    },
    {
      "cell_type": "code",
      "metadata": {
        "id": "oi6vtRzbJjh-",
        "colab": {
          "base_uri": "https://localhost:8080/",
          "height": 265
        },
        "outputId": "891ebd19-1c48-4a3c-8cc3-72c254dc4a9f"
      },
      "source": [
        "plt.hist(y_test);"
      ],
      "execution_count": null,
      "outputs": [
        {
          "output_type": "display_data",
          "data": {
            "image/png": "[encoded data removed]",
            "text/plain": [
              "<Figure size 432x288 with 1 Axes>"
            ]
          },
          "metadata": {}
        }
      ]
    },
    {
      "cell_type": "code",
      "metadata": {
        "id": "bZ68OQQ21hBf"
      },
      "source": [
        "METRICS = [\n",
        "      tf.keras.metrics.BinaryAccuracy(name='accuracy'),\n",
        "      tf.keras.metrics.Precision(name='precision'),\n",
        "      tf.keras.metrics.Recall(name='recall')\n",
        "]\n",
        "\n",
        "model.compile(optimizer='adam',\n",
        "              loss='binary_crossentropy',\n",
        "              metrics=METRICS)"
      ],
      "execution_count": null,
      "outputs": []
    },
    {
      "cell_type": "code",
      "metadata": {
        "id": "31VKZiSD2Tbo",
        "colab": {
          "base_uri": "https://localhost:8080/"
        },
        "outputId": "d7541802-0d80-489b-e0d7-57aaae04a286"
      },
      "source": [
        "model.fit(X_train, y_train, epochs=1)"
      ],
      "execution_count": null,
      "outputs": [
        {
          "output_type": "stream",
          "name": "stdout",
          "text": [
            "11719/11719 [==============================] - 7564s 644ms/step - loss: 0.4559 - accuracy: 0.7886 - precision: 0.7973 - recall: 0.7802\n"
          ]
        },
        {
          "output_type": "execute_result",
          "data": {
            "text/plain": [
              "<keras.callbacks.History at 0x7f399d4f9f10>"
            ]
          },
          "metadata": {},
          "execution_count": 27
        }
      ]
    },
    {
      "cell_type": "code",
      "metadata": {
        "id": "WDCIQGEC2Tee",
        "colab": {
          "base_uri": "https://localhost:8080/"
        },
        "outputId": "b483c93f-fe56-470d-962a-3f48360def51"
      },
      "source": [
        "model.evaluate(X_test, y_test)"
      ],
      "execution_count": null,
      "outputs": [
        {
          "output_type": "stream",
          "name": "stdout",
          "text": [
            "3907/3907 [==============================] - 2478s 634ms/step - loss: 0.3904 - accuracy: 0.8317 - precision: 0.8717 - recall: 0.7824\n"
          ]
        },
        {
          "output_type": "execute_result",
          "data": {
            "text/plain": [
              "[0.39044830203056335, 0.8317360281944275, 0.871654748916626, 0.782371997833252]"
            ]
          },
          "metadata": {},
          "execution_count": 28
        }
      ]
    },
    {
      "cell_type": "code",
      "metadata": {
        "id": "aEEJHPEa2Tgo",
        "colab": {
          "base_uri": "https://localhost:8080/"
        },
        "outputId": "63cba214-8aff-41b2-d6ec-064f43c670a9"
      },
      "source": [
        "model_name = 'amazon'\n",
        "saved_model_path = './{}_bert'.format(model_name.replace('/', '_'))\n",
        "\n",
        "model.save(saved_model_path, include_optimizer=False)"
      ],
      "execution_count": null,
      "outputs": [
        {
          "output_type": "stream",
          "name": "stderr",
          "text": [
            "WARNING:absl:Found untraced functions such as restored_function_body, restored_function_body, restored_function_body, restored_function_body, restored_function_body while saving (showing 5 of 915). These functions will not be directly callable after loading.\n"
          ]
        },
        {
          "output_type": "stream",
          "name": "stdout",
          "text": [
            "INFO:tensorflow:Assets written to: ./amazon_bert/assets\n"
          ]
        },
        {
          "output_type": "stream",
          "name": "stderr",
          "text": [
            "INFO:tensorflow:Assets written to: ./amazon_bert/assets\n"
          ]
        }
      ]
    },
    {
      "cell_type": "code",
      "metadata": {
        "id": "lC46gZUN2TjN",
        "colab": {
          "base_uri": "https://localhost:8080/"
        },
        "outputId": "a0609bc0-0517-4cb4-e8c8-59a925b352e8"
      },
      "source": [
        "!zip -r /content/amazon_bert.zip /content/amazon_bert"
      ],
      "execution_count": null,
      "outputs": [
        {
          "output_type": "stream",
          "name": "stdout",
          "text": [
            "  adding: content/amazon_bert/ (stored 0%)\n",
            "  adding: content/amazon_bert/saved_model.pb (deflated 92%)\n",
            "  adding: content/amazon_bert/assets/ (stored 0%)\n",
            "  adding: content/amazon_bert/assets/vocab.txt (deflated 53%)\n",
            "  adding: content/amazon_bert/variables/ (stored 0%)\n",
            "  adding: content/amazon_bert/variables/variables.index (deflated 79%)\n",
            "  adding: content/amazon_bert/variables/variables.data-00000-of-00001 (deflated 7%)\n",
            "  adding: content/amazon_bert/keras_metadata.pb (deflated 84%)\n"
          ]
        }
      ]
    },
    {
      "cell_type": "code",
      "metadata": {
        "id": "tu0fNQUc2Tly"
      },
      "source": [
        "from google.colab import files\n",
        "files.download(\"amazon_bert.zip\")"
      ],
      "execution_count": null,
      "outputs": []
    },
    {
      "cell_type": "code",
      "metadata": {
        "id": "GWK5VZxY2ToK",
        "colab": {
          "base_uri": "https://localhost:8080/"
        },
        "outputId": "e99bc883-7174-4dbd-bd90-b4309ef74f10"
      },
      "source": [
        "new_model = tf.keras.models.load_model('amazon_bert')"
      ],
      "execution_count": null,
      "outputs": [
        {
          "output_type": "stream",
          "name": "stdout",
          "text": [
            "WARNING:tensorflow:No training configuration found in save file, so the model was *not* compiled. Compile it manually.\n"
          ]
        },
        {
          "output_type": "stream",
          "name": "stderr",
          "text": [
            "WARNING:tensorflow:No training configuration found in save file, so the model was *not* compiled. Compile it manually.\n"
          ]
        }
      ]
    },
    {
      "cell_type": "code",
      "metadata": {
        "id": "sIICUWnVSfKp"
      },
      "source": [
        "y_predicted = model.predict(X_test)\n",
        "y_predicted = y_predicted.flatten()"
      ],
      "execution_count": null,
      "outputs": []
    },
    {
      "cell_type": "code",
      "metadata": {
        "colab": {
          "base_uri": "https://localhost:8080/"
        },
        "id": "TIyLEWpiSfNF",
        "outputId": "8c315854-7cce-43e4-acfb-d7ae421c7542"
      },
      "source": [
        "import numpy as np\n",
        "\n",
        "y_predicted = np.where(y_predicted > 0.5, 1, 0)\n",
        "y_predicted"
      ],
      "execution_count": null,
      "outputs": [
        {
          "output_type": "execute_result",
          "data": {
            "text/plain": [
              "array([0, 1, 0, ..., 0, 0, 0])"
            ]
          },
          "metadata": {},
          "execution_count": 33
        }
      ]
    },
    {
      "cell_type": "code",
      "metadata": {
        "colab": {
          "base_uri": "https://localhost:8080/"
        },
        "id": "8UZnoiBXSfPV",
        "outputId": "67213ab6-9f15-461e-ec57-b1cce4d9ddf2"
      },
      "source": [
        "from sklearn.metrics import confusion_matrix, classification_report\n",
        "\n",
        "cm = confusion_matrix(y_test, y_predicted)\n",
        "cm"
      ],
      "execution_count": null,
      "outputs": [
        {
          "output_type": "execute_result",
          "data": {
            "text/plain": [
              "array([[54525,  7280],\n",
              "       [13753, 49442]])"
            ]
          },
          "metadata": {},
          "execution_count": 34
        }
      ]
    },
    {
      "cell_type": "code",
      "metadata": {
        "colab": {
          "base_uri": "https://localhost:8080/",
          "height": 265
        },
        "id": "OasNT2QxSfR3",
        "outputId": "c82828fb-56b7-4a0e-e223-8abef1fe50de"
      },
      "source": [
        "sns.heatmap(confusion_matrix(y_test, y_predicted), cmap='coolwarm', annot=True, fmt='g');"
      ],
      "execution_count": null,
      "outputs": [
        {
          "output_type": "display_data",
          "data": {
            "image/png": "[encoded data removed]",
            "text/plain": [
              "<Figure size 432x288 with 2 Axes>"
            ]
          },
          "metadata": {}
        }
      ]
    },
    {
      "cell_type": "code",
      "metadata": {
        "colab": {
          "base_uri": "https://localhost:8080/"
        },
        "id": "4lq58in4StKe",
        "outputId": "a8261ac6-a36e-4368-915d-e81f8d0cd154"
      },
      "source": [
        "# Reporte de métricas\n",
        "print(classification_report(y_test, y_predicted))"
      ],
      "execution_count": null,
      "outputs": [
        {
          "output_type": "stream",
          "name": "stdout",
          "text": [
            "              precision    recall  f1-score   support\n",
            "\n",
            "           0       0.80      0.88      0.84     61805\n",
            "           1       0.87      0.78      0.82     63195\n",
            "\n",
            "    accuracy                           0.83    125000\n",
            "   macro avg       0.84      0.83      0.83    125000\n",
            "weighted avg       0.84      0.83      0.83    125000\n",
            "\n"
          ]
        }
      ]
    },
    {
      "cell_type": "code",
      "metadata": {
        "id": "GYi3Jn9aStM_"
      },
      "source": [
        ""
      ],
      "execution_count": null,
      "outputs": []
    }
  ]
}